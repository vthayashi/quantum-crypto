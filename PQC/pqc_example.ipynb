{
  "cells": [
    {
      "cell_type": "markdown",
      "metadata": {
        "id": "-aOm2PZH2hWM"
      },
      "source": [
        "# **Material auxiliar - Minicurso 03 (SBSeg 2025 - PUCPR)**"
      ]
    },
    {
      "cell_type": "markdown",
      "metadata": {
        "id": "1bnMaEEV-lOT"
      },
      "source": [
        "**Aviso:** Este notebook é **apenas uma demonstração didática** de criptografia híbrida pós-quântica. **Este código não deve ser usado em operação real**. Trata-se de um fluxo simples para fins únicos de aprendizado e ilustração, realizado através da combinação do ML-KEM, HKDF, AES-GCM e ML-DSA."
      ]
    },
    {
      "cell_type": "markdown",
      "metadata": {
        "id": "ml0A-FYi9spM"
      },
      "source": [
        "**Bibliotecas criptográficas utilizadas:**\n",
        "\n",
        "**(1) pqcrypto**: biblioteca de criptografia pós-quântica com bindings para algoritmos padronizados pelo NIST.\n",
        "\n",
        "https://pypi.org/project/pqcrypto/\n",
        "\n",
        "**(2) pycryptodome**: biblioteca de criptografia convencional em Python.\n",
        "\n",
        "https://pypi.org/project/pycryptodome/\n",
        "\n",
        "**Para outras iniciativas, consultar:**\n",
        "\n",
        "**(a) liboqs:** biblioteca em C da Open Quantum Safe, com suporte a KEMs e assinaturas pós-quânticas.\n",
        "\n",
        "https://github.com/open-quantum-safe/liboqs"
      ]
    },
    {
      "cell_type": "code",
      "execution_count": 1,
      "metadata": {
        "colab": {
          "base_uri": "https://localhost:8080/"
        },
        "id": "NodKZycO2d56",
        "outputId": "d7d54061-0725-410e-eaa7-9c50b866099e"
      },
      "outputs": [],
      "source": [
        "!pip -q install pqcrypto pycryptodome\n"
      ]
    },
    {
      "cell_type": "markdown",
      "metadata": {
        "id": "gNo2inZM4aPS"
      },
      "source": [
        "**Verificação de variáveis de sistema e dependências**"
      ]
    },
    {
      "cell_type": "code",
      "execution_count": 2,
      "metadata": {
        "colab": {
          "base_uri": "https://localhost:8080/"
        },
        "id": "lncdXxgSPHpU",
        "outputId": "d91d16d7-da67-47c8-e2e6-2a16ba6fb6c8"
      },
      "outputs": [
        {
          "name": "stdout",
          "output_type": "stream",
          "text": [
            "Python: 3.13.5\n",
            "Plataforma: Linux-6.14.0-28-generic-x86_64-with-glibc2.39\n",
            "pqcrypto OK  | pycryptodome OK\n"
          ]
        }
      ],
      "source": [
        "import sys, platform\n",
        "print(\"Python:\", sys.version.split()[0])\n",
        "print(\"Plataforma:\", platform.platform())\n",
        "\n",
        "try:\n",
        "    import pqcrypto\n",
        "    from Crypto.Cipher import AES\n",
        "    print(\"pqcrypto OK  | pycryptodome OK\")\n",
        "except Exception as e:\n",
        "    print(\"Dependências faltando:\", e)\n"
      ]
    },
    {
      "cell_type": "markdown",
      "metadata": {
        "id": "z4_7sCSy5aNF"
      },
      "source": [
        "**Importação de módulos/bibliotecas**"
      ]
    },
    {
      "cell_type": "code",
      "execution_count": 3,
      "metadata": {
        "id": "0hXYjJdB5Qco"
      },
      "outputs": [],
      "source": [
        "import time, hmac, hashlib\n",
        "from secrets import compare_digest\n",
        "from textwrap import fill\n",
        "\n",
        "from Crypto.Cipher import AES\n",
        "from Crypto.Random import get_random_bytes\n",
        "from Crypto.Protocol.KDF import HKDF\n",
        "\n",
        "from pqcrypto.kem   import ml_kem_512   as KEM  # ML-KEM-512\n",
        "from pqcrypto.sign  import ml_dsa_44    as SIG  # ML-DSA-44"
      ]
    },
    {
      "cell_type": "markdown",
      "metadata": {
        "id": "NhYjTKS15umc"
      },
      "source": [
        "**Funções utilitárias**"
      ]
    },
    {
      "cell_type": "code",
      "execution_count": 4,
      "metadata": {
        "id": "wJDRaZuhPdu1"
      },
      "outputs": [],
      "source": [
        "\n",
        "# Uma função trivial para formatação do título nos prints de cada célula\n",
        "def title(t):\n",
        "    bar = \"=\" * len(t)\n",
        "    print(f\"\\n{bar}\\n{t}\\n{bar}\")\n",
        "\n",
        "# Uma função trivial para mostrar o prefixo em hex\n",
        "def hexdump(b: bytes, max_bytes: int = 24) -> str:\n",
        "    if not isinstance(b, (bytes, bytearray)): return str(b)\n",
        "    hx = b.hex()\n",
        "    return hx[:2*max_bytes] + (\"...\" if len(b) > max_bytes else \"\")\n",
        "\n",
        "# Uma função para executar uma função várias vezes e medir o tempo total gasto\n",
        "def bench(fn, *args, repeat=7):\n",
        "    t0 = time.perf_counter()\n",
        "    out = None\n",
        "    for _ in range(repeat):\n",
        "        out = fn(*args)\n",
        "    t1 = time.perf_counter()\n",
        "    return out, (t1 - t0) / repeat\n",
        "\n",
        "# Uma função simples para verificar igualdade\n",
        "def check_equal(a: bytes, b: bytes, label=\"\"):\n",
        "    ok = compare_digest(a, b)\n",
        "    print(f\"[CHECK] {label} iguais? {ok}\")\n",
        "    if not ok:\n",
        "        raise AssertionError(f\"Falha de verificação: {label}\")\n",
        "    return ok\n"
      ]
    },
    {
      "cell_type": "markdown",
      "metadata": {
        "id": "fD1c5iKH6JKg"
      },
      "source": [
        "**Geração de chaves**"
      ]
    },
    {
      "cell_type": "code",
      "execution_count": 5,
      "metadata": {
        "colab": {
          "base_uri": "https://localhost:8080/"
        },
        "id": "PhjIjHfXPugi",
        "outputId": "85ce351e-3812-44d1-8905-7423268fec16"
      },
      "outputs": [
        {
          "name": "stdout",
          "output_type": "stream",
          "text": [
            "\n",
            "=================================================\n",
            "1) Geração de chaves PQC (ML-KEM-512 e ML-DSA-44)\n",
            "=================================================\n",
            "\n",
            "\n",
            "[KEM] Gera par de chaves ML-KEM-512 em 0.000244 s\n",
            "pk_kem bytes: 800 | sk_kem bytes: 1632\n",
            "pk_kem[0:24]: 730892b5262edc988b5451b869cb3f82f469df8818c97355...\n",
            "\n",
            "\n",
            "[SIG] Gera par de chaves ML-DSA-44 em 0.000233 s\n",
            "pk_sig bytes: 1312 | sk_sig bytes: 2560\n",
            "pk_sig[0:24]: b6e0774f99e3ab70817bf1beaa21026ca961cf6beab56547...\n"
          ]
        }
      ],
      "source": [
        "title(\"1) Geração de chaves PQC (ML-KEM-512 e ML-DSA-44)\")\n",
        "\n",
        "print(\"\\n\")\n",
        "\n",
        "# KEM: geração do par (pk, sk) para troca de segredos\n",
        "(pk_kem, sk_kem), t_kem = bench(KEM.generate_keypair)\n",
        "print(f\"[KEM] Gera par de chaves ML-KEM-512 em {t_kem:.6f} s\")\n",
        "print(\"pk_kem bytes:\", len(pk_kem), \"| sk_kem bytes:\", len(sk_kem))\n",
        "print(\"pk_kem[0:24]:\", hexdump(pk_kem))\n",
        "\n",
        "print(\"\\n\")\n",
        "\n",
        "# ML-DSA: geração do par (pk, sk) para assinatura\n",
        "(pk_sig, sk_sig), t_sig = bench(SIG.generate_keypair)\n",
        "print(f\"[SIG] Gera par de chaves ML-DSA-44 em {t_sig:.6f} s\")\n",
        "print(\"pk_sig bytes:\", len(pk_sig), \"| sk_sig bytes:\", len(sk_sig))\n",
        "print(\"pk_sig[0:24]:\", hexdump(pk_sig))"
      ]
    },
    {
      "cell_type": "markdown",
      "metadata": {
        "id": "ncJw1Jyth6sm"
      },
      "source": [
        "**Estabelecimento do segredo**"
      ]
    },
    {
      "cell_type": "code",
      "execution_count": 6,
      "metadata": {
        "colab": {
          "base_uri": "https://localhost:8080/"
        },
        "id": "iqn-S9mRP3JS",
        "outputId": "0997e555-b58b-4c47-bf93-eda45ab5a3be"
      },
      "outputs": [
        {
          "name": "stdout",
          "output_type": "stream",
          "text": [
            "\n",
            "==================================================================\n",
            "2) Estabelecimento de segredo (Encapsulação/Decapsulação (ML-KEM))\n",
            "==================================================================\n",
            "\n",
            "\n",
            "[Bob] Encapsula segredo | tempo médio: 0.000385 s\n",
            "ct bytes: 768 | ct[0:24]: 8c89d571609a4834b0e0a59ac707be3c7f9e9ec06a2e2177...\n",
            "\n",
            "\n",
            "[Alice] Decapsula segredo com sk_kem | tempo médio: 0.000239 s\n",
            "\n",
            "\n",
            "[CHECK] Segredo compartilhado iguais? True\n",
            "ss[0:24]: 5a409944e1eb5079769c4e4da729b9ef737a344a3acad983...\n"
          ]
        }
      ],
      "source": [
        "title(\"2) Estabelecimento de segredo (Encapsulação/Decapsulação (ML-KEM))\")\n",
        "\n",
        "# Bob encapsula um segredo para a pk_kem de Alice\n",
        "(ct, ss_bob), t_encap = bench(KEM.encrypt, pk_kem)\n",
        "print(\"\\n\")\n",
        "print(f\"[Bob] Encapsula segredo | tempo médio: {t_encap:.6f} s\")\n",
        "print(\"ct bytes:\", len(ct), \"| ct[0:24]:\", hexdump(ct))\n",
        "print(\"\\n\")\n",
        "\n",
        "# Alice decapsula o segredo com sua sk_kem\n",
        "(ss_alice), t_decap = bench(KEM.decrypt, sk_kem, ct)\n",
        "print(f\"[Alice] Decapsula segredo com sk_kem | tempo médio: {t_decap:.6f} s\")\n",
        "print(\"\\n\")\n",
        "\n",
        "# Comparação\n",
        "check_equal(ss_bob, ss_alice, \"Segredo compartilhado\")\n",
        "print(\"ss[0:24]:\", hexdump(ss_alice))\n",
        "\n",
        "shared_secret = ss_alice"
      ]
    },
    {
      "cell_type": "markdown",
      "metadata": {
        "id": "SzwME2TaiJTe"
      },
      "source": [
        "**Derivação da chave simétrica**"
      ]
    },
    {
      "cell_type": "code",
      "execution_count": 7,
      "metadata": {
        "colab": {
          "base_uri": "https://localhost:8080/"
        },
        "id": "ECWlNUXjZLe8",
        "outputId": "2784c0ff-7a70-423d-c02f-344a2d793e94"
      },
      "outputs": [
        {
          "name": "stdout",
          "output_type": "stream",
          "text": [
            "\n",
            "=================================================================\n",
            "3) Derivação de chave simétrica (HKDF-SHA256) a partir do segredo\n",
            "=================================================================\n",
            "\n",
            "\n",
            "HKDF salt[0:16]: 200dfb209cbe32c5b8aa2ea062483936\n",
            "HKDF info: b'demo-hibrido-pqc/aes-gcm/v1'\n",
            "AES-256 key[0:24]: afb595c158ba910b83d61c24721eb1ed6da64fcb63f94ec6...\n",
            "[CHECK] Tamanho da chave AES: 32 bytes (esperado: 32)\n"
          ]
        }
      ],
      "source": [
        "title(\"3) Derivação de chave simétrica (HKDF-SHA256) a partir do segredo\")\n",
        "\n",
        "#https://nvlpubs.nist.gov/nistpubs/SpecialPublications/NIST.SP.800-56Cr2.pdf\n",
        "#https://link.springer.com/chapter/10.1007/978-3-642-14623-7_34\n",
        "\n",
        "from Crypto.Protocol.KDF import HKDF\n",
        "from Crypto.Hash import SHA256\n",
        "\n",
        "# Parâmetros de derivação\n",
        "salt = get_random_bytes(16)\n",
        "info = b\"demo-hibrido-pqc/aes-gcm/v1\"\n",
        "\n",
        "# HKDF: deriva 32 bytes para chave AES-256\n",
        "# Assinatura: HKDF(master, key_len, salt, hashmod, num_keys=1, context=None)\n",
        "aes_key = HKDF(\n",
        "    master=shared_secret,   # segredo do KEM\n",
        "    key_len=32,\n",
        "    salt=salt,\n",
        "    hashmod=SHA256,\n",
        "    num_keys=1,\n",
        "    context=info\n",
        ")\n",
        "\n",
        "print(\"\\n\")\n",
        "\n",
        "print(\"HKDF salt[0:16]:\", hexdump(salt, 16))\n",
        "print(\"HKDF info:\", info)\n",
        "print(\"AES-256 key[0:24]:\", hexdump(aes_key))\n",
        "print(\"[CHECK] Tamanho da chave AES:\", len(aes_key), \"bytes (esperado: 32)\")\n"
      ]
    },
    {
      "cell_type": "markdown",
      "metadata": {
        "id": "Tkzw8OyCiv53"
      },
      "source": [
        "**Encriptação e Desencriptação**"
      ]
    },
    {
      "cell_type": "code",
      "execution_count": 8,
      "metadata": {
        "colab": {
          "base_uri": "https://localhost:8080/"
        },
        "id": "xuqPjy21cyrJ",
        "outputId": "66c3bc22-4ddc-401d-ae95-104ec7d16cf9"
      },
      "outputs": [
        {
          "name": "stdout",
          "output_type": "stream",
          "text": [
            "\n",
            "=======================================\n",
            "4) Cifra autenticada (AEAD) com AES-GCM\n",
            "=======================================\n",
            "\n",
            "\n",
            "[Alice] Realiza a encriptação com AES-GCM | tempo médio: 0.003127 s\n",
            "nonce bytes: 12 | tag bytes: 16\n",
            "aad (autenticada, nao cifrada): b'header: rota=beta; versao=1; tipo=demo'\n",
            "ct bytes: 42 | ct[0:24]: 1e33bddd4f8914319e0e67d9ce766fe3338fdf60b485e15f...\n",
            "\n",
            "\n",
            "[Bob] Realiza a desencriptação e verifica tag/AAD | tempo médio: 0.000166 s\n",
            "\n",
            "\n",
            "[CHECK] Mensagem recebida iguais? True\n",
            "Mensagem recuperada: b'Mensagem confidencial via ML-KEM + AES-GCM'\n"
          ]
        }
      ],
      "source": [
        "title(\"4) Cifra autenticada (AEAD) com AES-GCM\")\n",
        "\n",
        "def aead_encrypt(key: bytes, plaintext: bytes, aad: bytes):\n",
        "    nonce = get_random_bytes(12)              # 96 bits recomendado p/ GCM\n",
        "    cipher = AES.new(key, AES.MODE_GCM, nonce=nonce)\n",
        "    cipher.update(aad)                        # vincula AAD à autenticação\n",
        "    ct, tag = cipher.encrypt_and_digest(plaintext)  # sem pad, é stream-like\n",
        "    return nonce, ct, tag\n",
        "\n",
        "def aead_decrypt(key: bytes, nonce: bytes, ct: bytes, tag: bytes, aad: bytes) -> bytes:\n",
        "    cipher = AES.new(key, AES.MODE_GCM, nonce=nonce)\n",
        "    cipher.update(aad)\n",
        "    return cipher.decrypt_and_verify(ct, tag)\n",
        "\n",
        "# Mensagem e cabeçalho (AAD)\n",
        "mensagem = b\"Mensagem confidencial via ML-KEM + AES-GCM\"\n",
        "aad      = b\"header: rota=beta; versao=1; tipo=demo\"\n",
        "\n",
        "# Encriptação\n",
        "print(\"\\n\")\n",
        "(nonce, ct, tag), t_enc = bench(aead_encrypt, aes_key, mensagem, aad)\n",
        "print(f\"[Alice] Realiza a encriptação com AES-GCM | tempo médio: {t_enc:.6f} s\")\n",
        "print(\"nonce bytes:\", len(nonce), \"| tag bytes:\", len(tag))\n",
        "print(\"aad (autenticada, nao cifrada):\", aad)\n",
        "print(\"ct bytes:\", len(ct), \"| ct[0:24]:\", hexdump(ct))\n",
        "print(\"\\n\")\n",
        "\n",
        "# Desencriptação\n",
        "(pt_rec), t_dec = bench(aead_decrypt, aes_key, nonce, ct, tag, aad)\n",
        "print(f\"[Bob] Realiza a desencriptação e verifica tag/AAD | tempo médio: {t_dec:.6f} s\")\n",
        "print(\"\\n\")\n",
        "\n",
        "check_equal(pt_rec, mensagem, \"Mensagem recebida\")\n",
        "print(\"Mensagem recuperada:\", pt_rec)\n"
      ]
    },
    {
      "cell_type": "markdown",
      "metadata": {
        "id": "xQEvANqJpYdv"
      },
      "source": [
        "**Assinatura e verificação**"
      ]
    },
    {
      "cell_type": "code",
      "execution_count": 9,
      "metadata": {
        "colab": {
          "base_uri": "https://localhost:8080/"
        },
        "id": "E0gTk4tVdFdQ",
        "outputId": "cf7242a5-1228-4c76-ba0c-82f263bcdc04"
      },
      "outputs": [
        {
          "name": "stdout",
          "output_type": "stream",
          "text": [
            "\n",
            "==================================\n",
            "5) Assinatura digital PQC (ML-DSA)\n",
            "==================================\n",
            "\n",
            "\n",
            "Dados a assinar (nonce|aad|ct|tag) bytes: 108\n",
            "to_sign[0:24]: 13ecec0be0890be3842668226865616465723a20726f7461...\n",
            "\n",
            "\n",
            "[Alice] Assina o pacote com ML-DSA-44 | tempo médio: 0.000473 s\n",
            "assinatura bytes: 2420 | assinatura[0:24]: 515bb68f139e474035d53f5f918109c639e3d435829b49c2...\n",
            "\n",
            "\n",
            "[Bob] Verificou assinatura | tempo médio: 0.000588 s\n",
            "Assinatura válida? True\n"
          ]
        }
      ],
      "source": [
        "title(\"5) Assinatura digital PQC (ML-DSA)\")\n",
        "\n",
        "# Pacote a ser assinado (nonce || aad || ct || tag)\n",
        "to_sign = nonce + aad + ct + tag\n",
        "print(\"\\n\")\n",
        "print(\"Dados a assinar (nonce|aad|ct|tag) bytes:\", len(to_sign))\n",
        "print(\"to_sign[0:24]:\", hexdump(to_sign))\n",
        "\n",
        "# Assinatura\n",
        "print(\"\\n\")\n",
        "(signature), t_sign = bench(SIG.sign, sk_sig, to_sign)\n",
        "print(f\"[Alice] Assina o pacote com ML-DSA-44 | tempo médio: {t_sign:.6f} s\")\n",
        "print(\"assinatura bytes:\", len(signature), \"| assinatura[0:24]:\", hexdump(signature))\n",
        "\n",
        "# Verificação\n",
        "print(\"\\n\")\n",
        "(ok), t_verify = bench(SIG.verify, pk_sig, to_sign, signature)\n",
        "print(f\"[Bob] Verificou assinatura | tempo médio: {t_verify:.6f} s\")\n",
        "print(\"Assinatura válida?\", ok)\n",
        "if not ok:\n",
        "    raise AssertionError(\"Assinatura inválida.\")\n"
      ]
    },
    {
      "cell_type": "markdown",
      "metadata": {
        "id": "XkLo7glqksla"
      },
      "source": [
        "**Verificação de Tamanhos e Tempos**"
      ]
    },
    {
      "cell_type": "code",
      "execution_count": 10,
      "metadata": {
        "colab": {
          "base_uri": "https://localhost:8080/"
        },
        "id": "nZVGZF_GdI0n",
        "outputId": "3d85b890-3f1b-4175-90c7-b95de222e27f"
      },
      "outputs": [
        {
          "name": "stdout",
          "output_type": "stream",
          "text": [
            "\n",
            "=============================\n",
            "6) Tamanhos e Tempos (médias)\n",
            "=============================\n",
            "\n",
            "\n",
            "TAMANHOS (bytes)\n",
            "- pk_kem (ML-KEM-512) : 800\n",
            "- sk_kem (ML-KEM-512) : 1632\n",
            "- ct (KEM ciphertext) : 42\n",
            "- ss (shared secret)  : 32\n",
            "- aes_key (HKDF-256)  : 32\n",
            "- pk_sig (ML-DSA-44)  : 1312\n",
            "- sk_sig (ML-DSA-44)  : 2560\n",
            "- assinatura (ML-DSA) : 2420\n",
            "\n",
            "\n",
            "\n",
            "TEMPOS (segundos, médias)\n",
            "- Geração de chaves KEM : 0.000244\n",
            "- Geração de chaves SIG : 0.000233\n",
            "- Encapsulação (KEM)    : 0.000385\n",
            "- Decapsulação (KEM)    : 0.000239\n",
            "- AES-GCM encrypt       : 0.003127\n",
            "- AES-GCM decrypt+verify: 0.000166\n",
            "- Assinar (ML-DSA)      : 0.000473\n",
            "- Verificar (ML-DSA)    : 0.000588\n"
          ]
        }
      ],
      "source": [
        "title(\"6) Tamanhos e Tempos (médias)\")\n",
        "\n",
        "print(\"\\n\")\n",
        "print(\"TAMANHOS (bytes)\")\n",
        "print(\"- pk_kem (ML-KEM-512) :\", len(pk_kem))\n",
        "print(\"- sk_kem (ML-KEM-512) :\", len(sk_kem))\n",
        "print(\"- ct (KEM ciphertext) :\", len(ct))\n",
        "print(\"- ss (shared secret)  :\", len(shared_secret))\n",
        "print(\"- aes_key (HKDF-256)  :\", len(aes_key))\n",
        "print(\"- pk_sig (ML-DSA-44)  :\", len(pk_sig))\n",
        "print(\"- sk_sig (ML-DSA-44)  :\", len(sk_sig))\n",
        "print(\"- assinatura (ML-DSA) :\", len(signature))\n",
        "\n",
        "print(\"\\n\")\n",
        "print(\"\\nTEMPOS (segundos, médias)\")\n",
        "print(\"- Geração de chaves KEM :\", f'{t_kem:.6f}')\n",
        "print(\"- Geração de chaves SIG :\", f'{t_sig:.6f}')\n",
        "print(\"- Encapsulação (KEM)    :\", f'{t_encap:.6f}')\n",
        "print(\"- Decapsulação (KEM)    :\", f'{t_decap:.6f}')\n",
        "print(\"- AES-GCM encrypt       :\", f'{t_enc:.6f}')\n",
        "print(\"- AES-GCM decrypt+verify:\", f'{t_dec:.6f}')\n",
        "print(\"- Assinar (ML-DSA)      :\", f'{t_sign:.6f}')\n",
        "print(\"- Verificar (ML-DSA)    :\", f'{t_verify:.6f}')\n"
      ]
    },
    {
      "cell_type": "markdown",
      "metadata": {
        "id": "iUjOq1XUlbkj"
      },
      "source": [
        "**Níveis do ML-KEM (512/768/1024) e ML-DSA (44/65/87)**"
      ]
    },
    {
      "cell_type": "code",
      "execution_count": 11,
      "metadata": {
        "colab": {
          "base_uri": "https://localhost:8080/"
        },
        "id": "67dqOY9deGQ_",
        "outputId": "158d4ba9-a4c3-45cc-f6cd-074630c2a772"
      },
      "outputs": [
        {
          "name": "stdout",
          "output_type": "stream",
          "text": [
            "\n",
            "================================================================\n",
            "Comparação de níveis (ML-KEM (512/768/1024) e ML-DSA (44/65/87))\n",
            "================================================================\n",
            "\n",
            "[KEM] ML-KEM-512\n",
            "[CHECK] ss (pqcrypto.kem.ml_kem_512) iguais? True\n",
            "{'pk': 800, 'sk': 1632, 'ct': 768, 't_gen': 7.745314360363409e-05, 't_enc': 7.938714302976482e-05, 't_dec': 9.698128581346412e-05}\n",
            "\n",
            "[KEM] ML-KEM-768\n",
            "[CHECK] ss (pqcrypto.kem.ml_kem_768) iguais? True\n",
            "{'pk': 1184, 'sk': 2400, 'ct': 1088, 't_gen': 0.00010916728621980707, 't_enc': 0.00011756857150300805, 't_dec': 0.00013577828628643016}\n",
            "\n",
            "[KEM] ML-KEM-1024\n",
            "[CHECK] ss (pqcrypto.kem.ml_kem_1024) iguais? True\n",
            "{'pk': 1568, 'sk': 3168, 'ct': 1568, 't_gen': 0.00016206814325414598, 't_enc': 0.00014015299945770363, 't_dec': 0.00011897628532356716}\n",
            "\n",
            "[SIG] ML-DSA-44\n",
            "{'pk': 1312, 'sk': 2560, 'sig': 2420, 't_gen': 8.905214261696009e-05, 't_sign': 0.0004026418568433395, 't_verify': 0.00011562871389157538, 'ok': True}\n",
            "\n",
            "[SIG] ML-DSA-65\n",
            "{'pk': 1952, 'sk': 4032, 'sig': 3309, 't_gen': 0.0002006107138835692, 't_sign': 0.0004296357136419309, 't_verify': 0.0001365228578963849, 'ok': True}\n",
            "\n",
            "[SIG] ML-DSA-87\n",
            "{'pk': 2592, 'sk': 4896, 'sig': 4627, 't_gen': 0.00022501071465999952, 't_sign': 0.0005072092857777274, 't_verify': 0.00023388142913712988, 'ok': True}\n"
          ]
        }
      ],
      "source": [
        "title(\"Comparação de níveis (ML-KEM (512/768/1024) e ML-DSA (44/65/87))\")\n",
        "\n",
        "from pqcrypto.kem  import ml_kem_768 as KEM768, ml_kem_1024 as KEM1024\n",
        "from pqcrypto.sign import ml_dsa_65  as SIG65,   ml_dsa_87   as SIG87\n",
        "\n",
        "def kem_roundtrip(KEM_MOD):\n",
        "    (pk, sk), tk = bench(KEM_MOD.generate_keypair)\n",
        "    (ct, ss1), te = bench(KEM_MOD.encrypt, pk)\n",
        "    (ss2), td = bench(KEM_MOD.decrypt, sk, ct)\n",
        "    check_equal(ss1, ss2, f\"ss ({KEM_MOD.__name__})\")\n",
        "    return {\n",
        "        \"pk\": len(pk), \"sk\": len(sk), \"ct\": len(ct),\n",
        "        \"t_gen\": tk, \"t_enc\": te, \"t_dec\": td\n",
        "    }\n",
        "\n",
        "def sig_roundtrip(SIG_MOD, payload=b\"benchmark\"):\n",
        "    (pk, sk), tk = bench(SIG_MOD.generate_keypair)\n",
        "    (sig), ts = bench(SIG_MOD.sign, sk, payload)\n",
        "    (ok), tv = bench(SIG_MOD.verify, pk, payload, sig)\n",
        "    return {\n",
        "        \"pk\": len(pk), \"sk\": len(sk), \"sig\": len(sig),\n",
        "        \"t_gen\": tk, \"t_sign\": ts, \"t_verify\": tv, \"ok\": ok\n",
        "    }\n",
        "\n",
        "print(\"\\n[KEM] ML-KEM-512\")\n",
        "r512 = kem_roundtrip(KEM)\n",
        "print(r512)\n",
        "\n",
        "print(\"\\n[KEM] ML-KEM-768\")\n",
        "r768 = kem_roundtrip(KEM768)\n",
        "print(r768)\n",
        "\n",
        "print(\"\\n[KEM] ML-KEM-1024\")\n",
        "r1024 = kem_roundtrip(KEM1024)\n",
        "print(r1024)\n",
        "\n",
        "print(\"\\n[SIG] ML-DSA-44\")\n",
        "s44 = sig_roundtrip(SIG)\n",
        "print(s44)\n",
        "\n",
        "print(\"\\n[SIG] ML-DSA-65\")\n",
        "s65 = sig_roundtrip(SIG65)\n",
        "print(s65)\n",
        "\n",
        "print(\"\\n[SIG] ML-DSA-87\")\n",
        "s87 = sig_roundtrip(SIG87)\n",
        "print(s87)\n"
      ]
    }
  ],
  "metadata": {
    "colab": {
      "provenance": []
    },
    "kernelspec": {
      "display_name": "quantumSBSeg",
      "language": "python",
      "name": "python3"
    },
    "language_info": {
      "codemirror_mode": {
        "name": "ipython",
        "version": 3
      },
      "file_extension": ".py",
      "mimetype": "text/x-python",
      "name": "python",
      "nbconvert_exporter": "python",
      "pygments_lexer": "ipython3",
      "version": "3.13.5"
    }
  },
  "nbformat": 4,
  "nbformat_minor": 0
}
