{
  "nbformat": 4,
  "nbformat_minor": 0,
  "metadata": {
    "colab": {
      "provenance": []
    },
    "kernelspec": {
      "name": "python3",
      "display_name": "Python 3"
    },
    "language_info": {
      "name": "python"
    }
  },
  "cells": [
    {
      "cell_type": "markdown",
      "source": [
        "# **Material auxiliar - Minicurso 03 (SBSeg 2025 - PUCPR)**"
      ],
      "metadata": {
        "id": "-aOm2PZH2hWM"
      }
    },
    {
      "cell_type": "markdown",
      "source": [
        "**Aviso:** Este notebook é **apenas uma demonstração didática** de criptografia híbrida pós-quântica. **Este código não deve ser usado em operação real**. Trata-se de um fluxo simples para fins únicos de aprendizado e ilustração, realizado através da combinação do ML-KEM, HKDF, AES-GCM e ML-DSA."
      ],
      "metadata": {
        "id": "1bnMaEEV-lOT"
      }
    },
    {
      "cell_type": "markdown",
      "source": [
        "**Bibliotecas criptográficas utilizadas:**\n",
        "\n",
        "**(1) pqcrypto**: biblioteca de criptografia pós-quântica com bindings para algoritmos padronizados pelo NIST.\n",
        "\n",
        "https://pypi.org/project/pqcrypto/\n",
        "\n",
        "**(2) pycryptodome**: biblioteca de criptografia convencional em Python.\n",
        "\n",
        "https://pypi.org/project/pycryptodome/\n",
        "\n",
        "**Para outras iniciativas, consultar:**\n",
        "\n",
        "**(a) liboqs:** biblioteca em C da Open Quantum Safe, com suporte a KEMs e assinaturas pós-quânticas.\n",
        "\n",
        "https://github.com/open-quantum-safe/liboqs"
      ],
      "metadata": {
        "id": "ml0A-FYi9spM"
      }
    },
    {
      "cell_type": "code",
      "source": [
        "!pip -q install pqcrypto pycryptodome\n"
      ],
      "metadata": {
        "colab": {
          "base_uri": "https://localhost:8080/"
        },
        "id": "NodKZycO2d56",
        "outputId": "d7d54061-0725-410e-eaa7-9c50b866099e"
      },
      "execution_count": 1,
      "outputs": [
        {
          "output_type": "stream",
          "name": "stdout",
          "text": [
            "\u001b[2K   \u001b[90m━━━━━━━━━━━━━━━━━━━━━━━━━━━━━━━━━━━━━━━━\u001b[0m \u001b[32m27.0/27.0 MB\u001b[0m \u001b[31m64.9 MB/s\u001b[0m eta \u001b[36m0:00:00\u001b[0m\n",
            "\u001b[2K   \u001b[90m━━━━━━━━━━━━━━━━━━━━━━━━━━━━━━━━━━━━━━━━\u001b[0m \u001b[32m2.3/2.3 MB\u001b[0m \u001b[31m73.4 MB/s\u001b[0m eta \u001b[36m0:00:00\u001b[0m\n",
            "\u001b[?25h"
          ]
        }
      ]
    },
    {
      "cell_type": "markdown",
      "source": [
        "**Verificação de variáveis de sistema e dependências**"
      ],
      "metadata": {
        "id": "gNo2inZM4aPS"
      }
    },
    {
      "cell_type": "code",
      "source": [
        "import sys, platform\n",
        "print(\"Python:\", sys.version.split()[0])\n",
        "print(\"Plataforma:\", platform.platform())\n",
        "\n",
        "try:\n",
        "    import pqcrypto\n",
        "    from Crypto.Cipher import AES\n",
        "    print(\"pqcrypto OK  | pycryptodome OK\")\n",
        "except Exception as e:\n",
        "    print(\"Dependências faltando:\", e)\n"
      ],
      "metadata": {
        "colab": {
          "base_uri": "https://localhost:8080/"
        },
        "id": "lncdXxgSPHpU",
        "outputId": "d91d16d7-da67-47c8-e2e6-2a16ba6fb6c8"
      },
      "execution_count": 2,
      "outputs": [
        {
          "output_type": "stream",
          "name": "stdout",
          "text": [
            "Python: 3.12.11\n",
            "Plataforma: Linux-6.1.123+-x86_64-with-glibc2.35\n",
            "pqcrypto OK  | pycryptodome OK\n"
          ]
        }
      ]
    },
    {
      "cell_type": "markdown",
      "source": [
        "**Importação de módulos/bibliotecas**"
      ],
      "metadata": {
        "id": "z4_7sCSy5aNF"
      }
    },
    {
      "cell_type": "code",
      "source": [
        "import time, hmac, hashlib\n",
        "from secrets import compare_digest\n",
        "from textwrap import fill\n",
        "\n",
        "from Crypto.Cipher import AES\n",
        "from Crypto.Random import get_random_bytes\n",
        "from Crypto.Protocol.KDF import HKDF\n",
        "\n",
        "from pqcrypto.kem   import ml_kem_512   as KEM  # ML-KEM-512\n",
        "from pqcrypto.sign  import ml_dsa_44    as SIG  # ML-DSA-44"
      ],
      "metadata": {
        "id": "0hXYjJdB5Qco"
      },
      "execution_count": 3,
      "outputs": []
    },
    {
      "cell_type": "markdown",
      "source": [
        "**Funções utilitárias**"
      ],
      "metadata": {
        "id": "NhYjTKS15umc"
      }
    },
    {
      "cell_type": "code",
      "source": [
        "\n",
        "# Uma função trivial para formatação do título nos prints de cada célula\n",
        "def title(t):\n",
        "    bar = \"=\" * len(t)\n",
        "    print(f\"\\n{bar}\\n{t}\\n{bar}\")\n",
        "\n",
        "# Uma função trivial para mostrar o prefixo em hex\n",
        "def hexdump(b: bytes, max_bytes: int = 24) -> str:\n",
        "    if not isinstance(b, (bytes, bytearray)): return str(b)\n",
        "    hx = b.hex()\n",
        "    return hx[:2*max_bytes] + (\"...\" if len(b) > max_bytes else \"\")\n",
        "\n",
        "# Uma função para executar uma função várias vezes e medir o tempo total gasto\n",
        "def bench(fn, *args, repeat=7):\n",
        "    t0 = time.perf_counter()\n",
        "    out = None\n",
        "    for _ in range(repeat):\n",
        "        out = fn(*args)\n",
        "    t1 = time.perf_counter()\n",
        "    return out, (t1 - t0) / repeat\n",
        "\n",
        "# Uma função simples para verificar igualdade\n",
        "def check_equal(a: bytes, b: bytes, label=\"\"):\n",
        "    ok = compare_digest(a, b)\n",
        "    print(f\"[CHECK] {label} iguais? {ok}\")\n",
        "    if not ok:\n",
        "        raise AssertionError(f\"Falha de verificação: {label}\")\n",
        "    return ok\n"
      ],
      "metadata": {
        "id": "wJDRaZuhPdu1"
      },
      "execution_count": 4,
      "outputs": []
    },
    {
      "cell_type": "markdown",
      "source": [
        "**Geração de chaves**"
      ],
      "metadata": {
        "id": "fD1c5iKH6JKg"
      }
    },
    {
      "cell_type": "code",
      "source": [
        "title(\"1) Geração de chaves PQC (ML-KEM-512 e ML-DSA-44)\")\n",
        "\n",
        "print(\"\\n\")\n",
        "\n",
        "# KEM: geração do par (pk, sk) para troca de segredos\n",
        "(pk_kem, sk_kem), t_kem = bench(KEM.generate_keypair)\n",
        "print(f\"[KEM] Gera par de chaves ML-KEM-512 em {t_kem:.6f} s\")\n",
        "print(\"pk_kem bytes:\", len(pk_kem), \"| sk_kem bytes:\", len(sk_kem))\n",
        "print(\"pk_kem[0:24]:\", hexdump(pk_kem))\n",
        "\n",
        "print(\"\\n\")\n",
        "\n",
        "# ML-DSA: geração do par (pk, sk) para assinatura\n",
        "(pk_sig, sk_sig), t_sig = bench(SIG.generate_keypair)\n",
        "print(f\"[SIG] Gera par de chaves ML-DSA-44 em {t_sig:.6f} s\")\n",
        "print(\"pk_sig bytes:\", len(pk_sig), \"| sk_sig bytes:\", len(sk_sig))\n",
        "print(\"pk_sig[0:24]:\", hexdump(pk_sig))"
      ],
      "metadata": {
        "colab": {
          "base_uri": "https://localhost:8080/"
        },
        "id": "PhjIjHfXPugi",
        "outputId": "85ce351e-3812-44d1-8905-7423268fec16"
      },
      "execution_count": 6,
      "outputs": [
        {
          "output_type": "stream",
          "name": "stdout",
          "text": [
            "\n",
            "=================================================\n",
            "1) Geração de chaves PQC (ML-KEM-512 e ML-DSA-44)\n",
            "=================================================\n",
            "\n",
            "\n",
            "[KEM] Gera par de chaves ML-KEM-512 em 0.000155 s\n",
            "pk_kem bytes: 800 | sk_kem bytes: 1632\n",
            "pk_kem[0:24]: 33f423348a196d01ca7cc71bf30a884a616f4bf4479c4668...\n",
            "\n",
            "\n",
            "[SIG] Gera par de chaves ML-DSA-44 em 0.000257 s\n",
            "pk_sig bytes: 1312 | sk_sig bytes: 2560\n",
            "pk_sig[0:24]: 9d409a56495c4f470fc6a5de6544a366c0d88b59d5434950...\n"
          ]
        }
      ]
    },
    {
      "cell_type": "markdown",
      "source": [
        "**Estabelecimento do segredo**"
      ],
      "metadata": {
        "id": "ncJw1Jyth6sm"
      }
    },
    {
      "cell_type": "code",
      "source": [
        "title(\"2) Estabelecimento de segredo (Encapsulação/Decapsulação (ML-KEM))\")\n",
        "\n",
        "# Bob encapsula um segredo para a pk_kem de Alice\n",
        "(ct, ss_bob), t_encap = bench(KEM.encrypt, pk_kem)\n",
        "print(\"\\n\")\n",
        "print(f\"[Bob] Encapsula segredo | tempo médio: {t_encap:.6f} s\")\n",
        "print(\"ct bytes:\", len(ct), \"| ct[0:24]:\", hexdump(ct))\n",
        "print(\"\\n\")\n",
        "\n",
        "# Alice decapsula o segredo com sua sk_kem\n",
        "(ss_alice), t_decap = bench(KEM.decrypt, sk_kem, ct)\n",
        "print(f\"[Alice] Decapsula segredo com sk_kem | tempo médio: {t_decap:.6f} s\")\n",
        "print(\"\\n\")\n",
        "\n",
        "# Comparação\n",
        "check_equal(ss_bob, ss_alice, \"Segredo compartilhado\")\n",
        "print(\"ss[0:24]:\", hexdump(ss_alice))\n",
        "\n",
        "shared_secret = ss_alice"
      ],
      "metadata": {
        "colab": {
          "base_uri": "https://localhost:8080/"
        },
        "id": "iqn-S9mRP3JS",
        "outputId": "0997e555-b58b-4c47-bf93-eda45ab5a3be"
      },
      "execution_count": 8,
      "outputs": [
        {
          "output_type": "stream",
          "name": "stdout",
          "text": [
            "\n",
            "==================================================================\n",
            "2) Estabelecimento de segredo (Encapsulação/Decapsulação (ML-KEM))\n",
            "==================================================================\n",
            "\n",
            "\n",
            "[Bob] Encapsula segredo | tempo médio: 0.000217 s\n",
            "ct bytes: 768 | ct[0:24]: fa84e39ee610c25cfe27d8932ae18451bc0d574f86309812...\n",
            "\n",
            "\n",
            "[Alice] Decapsula segredo com sk_kem | tempo médio: 0.000136 s\n",
            "\n",
            "\n",
            "[CHECK] Segredo compartilhado iguais? True\n",
            "ss[0:24]: 3a253cbf7c9848ead6429bc5d3775a04f35acb20dfaed882...\n"
          ]
        }
      ]
    },
    {
      "cell_type": "markdown",
      "source": [
        "**Derivação da chave simétrica**"
      ],
      "metadata": {
        "id": "SzwME2TaiJTe"
      }
    },
    {
      "cell_type": "code",
      "source": [
        "title(\"3) Derivação de chave simétrica (HKDF-SHA256) a partir do segredo\")\n",
        "\n",
        "#https://nvlpubs.nist.gov/nistpubs/SpecialPublications/NIST.SP.800-56Cr2.pdf\n",
        "#https://link.springer.com/chapter/10.1007/978-3-642-14623-7_34\n",
        "\n",
        "from Crypto.Protocol.KDF import HKDF\n",
        "from Crypto.Hash import SHA256\n",
        "\n",
        "# Parâmetros de derivação\n",
        "salt = get_random_bytes(16)\n",
        "info = b\"demo-hibrido-pqc/aes-gcm/v1\"\n",
        "\n",
        "# HKDF: deriva 32 bytes para chave AES-256\n",
        "# Assinatura: HKDF(master, key_len, salt, hashmod, num_keys=1, context=None)\n",
        "aes_key = HKDF(\n",
        "    master=shared_secret,   # segredo do KEM\n",
        "    key_len=32,\n",
        "    salt=salt,\n",
        "    hashmod=SHA256,\n",
        "    num_keys=1,\n",
        "    context=info\n",
        ")\n",
        "\n",
        "print(\"\\n\")\n",
        "\n",
        "print(\"HKDF salt[0:16]:\", hexdump(salt, 16))\n",
        "print(\"HKDF info:\", info)\n",
        "print(\"AES-256 key[0:24]:\", hexdump(aes_key))\n",
        "print(\"[CHECK] Tamanho da chave AES:\", len(aes_key), \"bytes (esperado: 32)\")\n"
      ],
      "metadata": {
        "colab": {
          "base_uri": "https://localhost:8080/"
        },
        "id": "ECWlNUXjZLe8",
        "outputId": "2784c0ff-7a70-423d-c02f-344a2d793e94"
      },
      "execution_count": 9,
      "outputs": [
        {
          "output_type": "stream",
          "name": "stdout",
          "text": [
            "\n",
            "=================================================================\n",
            "3) Derivação de chave simétrica (HKDF-SHA256) a partir do segredo\n",
            "=================================================================\n",
            "\n",
            "\n",
            "HKDF salt[0:16]: 619cb5f9c13223a88ac81ad3012ab72e\n",
            "HKDF info: b'demo-hibrido-pqc/aes-gcm/v1'\n",
            "AES-256 key[0:24]: 22bac13242706bd952dbb93bb1bf247fc2ed79a45b40e7ac...\n",
            "[CHECK] Tamanho da chave AES: 32 bytes (esperado: 32)\n"
          ]
        }
      ]
    },
    {
      "cell_type": "markdown",
      "source": [
        "**Encriptação e Desencriptação**"
      ],
      "metadata": {
        "id": "Tkzw8OyCiv53"
      }
    },
    {
      "cell_type": "code",
      "source": [
        "title(\"4) Cifra autenticada (AEAD) com AES-GCM\")\n",
        "\n",
        "def aead_encrypt(key: bytes, plaintext: bytes, aad: bytes):\n",
        "    nonce = get_random_bytes(12)              # 96 bits recomendado p/ GCM\n",
        "    cipher = AES.new(key, AES.MODE_GCM, nonce=nonce)\n",
        "    cipher.update(aad)                        # vincula AAD à autenticação\n",
        "    ct, tag = cipher.encrypt_and_digest(plaintext)  # sem pad, é stream-like\n",
        "    return nonce, ct, tag\n",
        "\n",
        "def aead_decrypt(key: bytes, nonce: bytes, ct: bytes, tag: bytes, aad: bytes) -> bytes:\n",
        "    cipher = AES.new(key, AES.MODE_GCM, nonce=nonce)\n",
        "    cipher.update(aad)\n",
        "    return cipher.decrypt_and_verify(ct, tag)\n",
        "\n",
        "# Mensagem e cabeçalho (AAD)\n",
        "mensagem = b\"Mensagem confidencial via ML-KEM + AES-GCM\"\n",
        "aad      = b\"header: rota=beta; versao=1; tipo=demo\"\n",
        "\n",
        "# Encriptação\n",
        "print(\"\\n\")\n",
        "(nonce, ct, tag), t_enc = bench(aead_encrypt, aes_key, mensagem, aad)\n",
        "print(f\"[Alice] Realiza a encriptação com AES-GCM | tempo médio: {t_enc:.6f} s\")\n",
        "print(\"nonce bytes:\", len(nonce), \"| tag bytes:\", len(tag))\n",
        "print(\"aad (autenticada, nao cifrada):\", aad)\n",
        "print(\"ct bytes:\", len(ct), \"| ct[0:24]:\", hexdump(ct))\n",
        "print(\"\\n\")\n",
        "\n",
        "# Desencriptação\n",
        "(pt_rec), t_dec = bench(aead_decrypt, aes_key, nonce, ct, tag, aad)\n",
        "print(f\"[Bob] Realiza a desencriptação e verifica tag/AAD | tempo médio: {t_dec:.6f} s\")\n",
        "print(\"\\n\")\n",
        "\n",
        "check_equal(pt_rec, mensagem, \"Mensagem recebida\")\n",
        "print(\"Mensagem recuperada:\", pt_rec)\n"
      ],
      "metadata": {
        "colab": {
          "base_uri": "https://localhost:8080/"
        },
        "id": "xuqPjy21cyrJ",
        "outputId": "66c3bc22-4ddc-401d-ae95-104ec7d16cf9"
      },
      "execution_count": 12,
      "outputs": [
        {
          "output_type": "stream",
          "name": "stdout",
          "text": [
            "\n",
            "=======================================\n",
            "4) Cifra autenticada (AEAD) com AES-GCM\n",
            "=======================================\n",
            "\n",
            "\n",
            "[Alice] Realiza a encriptação com AES-GCM | tempo médio: 0.000505 s\n",
            "nonce bytes: 12 | tag bytes: 16\n",
            "aad (autenticada, nao cifrada): b'header: rota=beta; versao=1; tipo=demo'\n",
            "ct bytes: 42 | ct[0:24]: 979d652b21aef3372d9f8dfc826a03cb00a6d7ddeeb774b4...\n",
            "\n",
            "\n",
            "[Bob] Realiza a desencriptação e verifica tag/AAD | tempo médio: 0.000124 s\n",
            "\n",
            "\n",
            "[CHECK] Mensagem recebida iguais? True\n",
            "Mensagem recuperada: b'Mensagem confidencial via ML-KEM + AES-GCM'\n"
          ]
        }
      ]
    },
    {
      "cell_type": "markdown",
      "source": [
        "**Assinatura e verificação**"
      ],
      "metadata": {
        "id": "xQEvANqJpYdv"
      }
    },
    {
      "cell_type": "code",
      "source": [
        "title(\"5) Assinatura digital PQC (ML-DSA)\")\n",
        "\n",
        "# Pacote a ser assinado (nonce || aad || ct || tag)\n",
        "to_sign = nonce + aad + ct + tag\n",
        "print(\"\\n\")\n",
        "print(\"Dados a assinar (nonce|aad|ct|tag) bytes:\", len(to_sign))\n",
        "print(\"to_sign[0:24]:\", hexdump(to_sign))\n",
        "\n",
        "# Assinatura\n",
        "print(\"\\n\")\n",
        "(signature), t_sign = bench(SIG.sign, sk_sig, to_sign)\n",
        "print(f\"[Alice] Assina o pacote com ML-DSA-44 | tempo médio: {t_sign:.6f} s\")\n",
        "print(\"assinatura bytes:\", len(signature), \"| assinatura[0:24]:\", hexdump(signature))\n",
        "\n",
        "# Verificação\n",
        "print(\"\\n\")\n",
        "(ok), t_verify = bench(SIG.verify, pk_sig, to_sign, signature)\n",
        "print(f\"[Bob] Verificou assinatura | tempo médio: {t_verify:.6f} s\")\n",
        "print(\"Assinatura válida?\", ok)\n",
        "if not ok:\n",
        "    raise AssertionError(\"Assinatura inválida.\")\n"
      ],
      "metadata": {
        "colab": {
          "base_uri": "https://localhost:8080/"
        },
        "id": "E0gTk4tVdFdQ",
        "outputId": "cf7242a5-1228-4c76-ba0c-82f263bcdc04"
      },
      "execution_count": 14,
      "outputs": [
        {
          "output_type": "stream",
          "name": "stdout",
          "text": [
            "\n",
            "==================================\n",
            "5) Assinatura digital PQC (ML-DSA)\n",
            "==================================\n",
            "\n",
            "\n",
            "Dados a assinar (nonce|aad|ct|tag) bytes: 108\n",
            "to_sign[0:24]: 5b8f61148a44254929260b496865616465723a20726f7461...\n",
            "\n",
            "\n",
            "[Alice] Assina o pacote com ML-DSA-44 | tempo médio: 0.001140 s\n",
            "assinatura bytes: 2420 | assinatura[0:24]: 84c0e51df53cc1bbe617af13b6fdd3f07f7fc8cb92a197ff...\n",
            "\n",
            "\n",
            "[Bob] Verificou assinatura | tempo médio: 0.000175 s\n",
            "Assinatura válida? True\n"
          ]
        }
      ]
    },
    {
      "cell_type": "markdown",
      "source": [
        "**Verificação de Tamanhos e Tempos**"
      ],
      "metadata": {
        "id": "XkLo7glqksla"
      }
    },
    {
      "cell_type": "code",
      "source": [
        "title(\"6) Tamanhos e Tempos (médias)\")\n",
        "\n",
        "print(\"\\n\")\n",
        "print(\"TAMANHOS (bytes)\")\n",
        "print(\"- pk_kem (ML-KEM-512) :\", len(pk_kem))\n",
        "print(\"- sk_kem (ML-KEM-512) :\", len(sk_kem))\n",
        "print(\"- ct (KEM ciphertext) :\", len(ct))\n",
        "print(\"- ss (shared secret)  :\", len(shared_secret))\n",
        "print(\"- aes_key (HKDF-256)  :\", len(aes_key))\n",
        "print(\"- pk_sig (ML-DSA-44)  :\", len(pk_sig))\n",
        "print(\"- sk_sig (ML-DSA-44)  :\", len(sk_sig))\n",
        "print(\"- assinatura (ML-DSA) :\", len(signature))\n",
        "\n",
        "print(\"\\n\")\n",
        "print(\"\\nTEMPOS (segundos, médias)\")\n",
        "print(\"- Geração de chaves KEM :\", f'{t_kem:.6f}')\n",
        "print(\"- Geração de chaves SIG :\", f'{t_sig:.6f}')\n",
        "print(\"- Encapsulação (KEM)    :\", f'{t_encap:.6f}')\n",
        "print(\"- Decapsulação (KEM)    :\", f'{t_decap:.6f}')\n",
        "print(\"- AES-GCM encrypt       :\", f'{t_enc:.6f}')\n",
        "print(\"- AES-GCM decrypt+verify:\", f'{t_dec:.6f}')\n",
        "print(\"- Assinar (ML-DSA)      :\", f'{t_sign:.6f}')\n",
        "print(\"- Verificar (ML-DSA)    :\", f'{t_verify:.6f}')\n"
      ],
      "metadata": {
        "colab": {
          "base_uri": "https://localhost:8080/"
        },
        "id": "nZVGZF_GdI0n",
        "outputId": "3d85b890-3f1b-4175-90c7-b95de222e27f"
      },
      "execution_count": 15,
      "outputs": [
        {
          "output_type": "stream",
          "name": "stdout",
          "text": [
            "\n",
            "=============================\n",
            "6) Tamanhos e Tempos (médias)\n",
            "=============================\n",
            "\n",
            "\n",
            "TAMANHOS (bytes)\n",
            "- pk_kem (ML-KEM-512) : 800\n",
            "- sk_kem (ML-KEM-512) : 1632\n",
            "- ct (KEM ciphertext) : 42\n",
            "- ss (shared secret)  : 32\n",
            "- aes_key (HKDF-256)  : 32\n",
            "- pk_sig (ML-DSA-44)  : 1312\n",
            "- sk_sig (ML-DSA-44)  : 2560\n",
            "- assinatura (ML-DSA) : 2420\n",
            "\n",
            "\n",
            "\n",
            "TEMPOS (segundos, médias)\n",
            "- Geração de chaves KEM : 0.000155\n",
            "- Geração de chaves SIG : 0.000257\n",
            "- Encapsulação (KEM)    : 0.000217\n",
            "- Decapsulação (KEM)    : 0.000136\n",
            "- AES-GCM encrypt       : 0.000505\n",
            "- AES-GCM decrypt+verify: 0.000124\n",
            "- Assinar (ML-DSA)      : 0.001140\n",
            "- Verificar (ML-DSA)    : 0.000175\n"
          ]
        }
      ]
    },
    {
      "cell_type": "markdown",
      "source": [
        "**Níveis do ML-KEM (512/768/1024) e ML-DSA (44/65/87)**"
      ],
      "metadata": {
        "id": "iUjOq1XUlbkj"
      }
    },
    {
      "cell_type": "code",
      "source": [
        "title(\"Comparação de níveis (ML-KEM (512/768/1024) e ML-DSA (44/65/87))\")\n",
        "\n",
        "from pqcrypto.kem  import ml_kem_768 as KEM768, ml_kem_1024 as KEM1024\n",
        "from pqcrypto.sign import ml_dsa_65  as SIG65,   ml_dsa_87   as SIG87\n",
        "\n",
        "def kem_roundtrip(KEM_MOD):\n",
        "    (pk, sk), tk = bench(KEM_MOD.generate_keypair)\n",
        "    (ct, ss1), te = bench(KEM_MOD.encrypt, pk)\n",
        "    (ss2), td = bench(KEM_MOD.decrypt, sk, ct)\n",
        "    check_equal(ss1, ss2, f\"ss ({KEM_MOD.__name__})\")\n",
        "    return {\n",
        "        \"pk\": len(pk), \"sk\": len(sk), \"ct\": len(ct),\n",
        "        \"t_gen\": tk, \"t_enc\": te, \"t_dec\": td\n",
        "    }\n",
        "\n",
        "def sig_roundtrip(SIG_MOD, payload=b\"benchmark\"):\n",
        "    (pk, sk), tk = bench(SIG_MOD.generate_keypair)\n",
        "    (sig), ts = bench(SIG_MOD.sign, sk, payload)\n",
        "    (ok), tv = bench(SIG_MOD.verify, pk, payload, sig)\n",
        "    return {\n",
        "        \"pk\": len(pk), \"sk\": len(sk), \"sig\": len(sig),\n",
        "        \"t_gen\": tk, \"t_sign\": ts, \"t_verify\": tv, \"ok\": ok\n",
        "    }\n",
        "\n",
        "print(\"\\n[KEM] ML-KEM-512\")\n",
        "r512 = kem_roundtrip(KEM)\n",
        "print(r512)\n",
        "\n",
        "print(\"\\n[KEM] ML-KEM-768\")\n",
        "r768 = kem_roundtrip(KEM768)\n",
        "print(r768)\n",
        "\n",
        "print(\"\\n[KEM] ML-KEM-1024\")\n",
        "r1024 = kem_roundtrip(KEM1024)\n",
        "print(r1024)\n",
        "\n",
        "print(\"\\n[SIG] ML-DSA-44\")\n",
        "s44 = sig_roundtrip(SIG)\n",
        "print(s44)\n",
        "\n",
        "print(\"\\n[SIG] ML-DSA-65\")\n",
        "s65 = sig_roundtrip(SIG65)\n",
        "print(s65)\n",
        "\n",
        "print(\"\\n[SIG] ML-DSA-87\")\n",
        "s87 = sig_roundtrip(SIG87)\n",
        "print(s87)\n"
      ],
      "metadata": {
        "colab": {
          "base_uri": "https://localhost:8080/"
        },
        "id": "67dqOY9deGQ_",
        "outputId": "158d4ba9-a4c3-45cc-f6cd-074630c2a772"
      },
      "execution_count": 17,
      "outputs": [
        {
          "output_type": "stream",
          "name": "stdout",
          "text": [
            "\n",
            "================================================================\n",
            "Comparação de níveis (ML-KEM (512/768/1024) e ML-DSA (44/65/87))\n",
            "================================================================\n",
            "\n",
            "[KEM] ML-KEM-512\n",
            "[CHECK] ss (pqcrypto.kem.ml_kem_512) iguais? True\n",
            "{'pk': 800, 'sk': 1632, 'ct': 768, 't_gen': 9.616499999408137e-05, 't_enc': 0.0001539054285655896, 't_dec': 0.00010063485712765084}\n",
            "\n",
            "[KEM] ML-KEM-768\n",
            "[CHECK] ss (pqcrypto.kem.ml_kem_768) iguais? True\n",
            "{'pk': 1184, 'sk': 2400, 'ct': 1088, 't_gen': 9.726157142202802e-05, 't_enc': 0.00010988600001837767, 't_dec': 0.00015697271425908963}\n",
            "\n",
            "[KEM] ML-KEM-1024\n",
            "[CHECK] ss (pqcrypto.kem.ml_kem_1024) iguais? True\n",
            "{'pk': 1568, 'sk': 3168, 'ct': 1568, 't_gen': 0.00019657728570824214, 't_enc': 0.00016500271427893104, 't_dec': 0.0001922975714023778}\n",
            "\n",
            "[SIG] ML-DSA-44\n",
            "{'pk': 1312, 'sk': 2560, 'sig': 2420, 't_gen': 0.0001585935714112046, 't_sign': 0.0011159298571458618, 't_verify': 0.0002956185714343259, 'ok': True}\n",
            "\n",
            "[SIG] ML-DSA-65\n",
            "{'pk': 1952, 'sk': 4032, 'sig': 3309, 't_gen': 0.0004997225714435315, 't_sign': 0.0015191957142763255, 't_verify': 0.0004844302857236471, 'ok': True}\n",
            "\n",
            "[SIG] ML-DSA-87\n",
            "{'pk': 2592, 'sk': 4896, 'sig': 4627, 't_gen': 0.0007438364285527703, 't_sign': 0.001430844000001993, 't_verify': 0.00045430471430206253, 'ok': True}\n"
          ]
        }
      ]
    }
  ]
}